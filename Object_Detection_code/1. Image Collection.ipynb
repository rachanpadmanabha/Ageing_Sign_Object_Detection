{
 "cells": [
  {
   "cell_type": "markdown",
   "metadata": {},
   "source": [
    "# 1. Import Dependencies"
   ]
  },
  {
   "cell_type": "code",
   "execution_count": 1,
   "metadata": {},
   "outputs": [
    {
     "name": "stdout",
     "output_type": "stream",
     "text": [
      "Requirement already satisfied: opencv-python in d:\\tfodcourse\\tfod\\lib\\site-packages (4.5.2.54)\n",
      "Requirement already satisfied: numpy>=1.19.3 in d:\\tfodcourse\\tfod\\lib\\site-packages (from opencv-python) (1.19.5)\n"
     ]
    }
   ],
   "source": [
    "!pip install opencv-python"
   ]
  },
  {
   "cell_type": "code",
   "execution_count": 1,
   "metadata": {},
   "outputs": [],
   "source": [
    "# Import opencv\n",
    "import cv2 \n",
    "\n",
    "# Import uuid\n",
    "import uuid\n",
    "\n",
    "# Import Operating System\n",
    "import os\n",
    "\n",
    "# Import time\n",
    "import time"
   ]
  },
  {
   "cell_type": "markdown",
   "metadata": {},
   "source": [
    "# 2. Define Images to Collect"
   ]
  },
  {
   "cell_type": "code",
   "execution_count": 2,
   "metadata": {},
   "outputs": [],
   "source": [
    "labels = ['dark_spots', 'puffy_eyes', 'wrinkles']\n",
    "number_imgs = 5"
   ]
  },
  {
   "cell_type": "markdown",
   "metadata": {},
   "source": [
    "# 3. Setup Folders "
   ]
  },
  {
   "cell_type": "code",
   "execution_count": 3,
   "metadata": {},
   "outputs": [],
   "source": [
    "IMAGES_PATH = os.path.join('Tensorflow', 'workspace', 'images', 'collectedimages')"
   ]
  },
  {
   "cell_type": "code",
   "execution_count": 4,
   "metadata": {},
   "outputs": [],
   "source": [
    "if not os.path.exists(IMAGES_PATH):\n",
    "    if os.name == 'posix':\n",
    "        !mkdir -p {IMAGES_PATH}\n",
    "    if os.name == 'nt':\n",
    "         !mkdir {IMAGES_PATH}\n",
    "for label in labels:\n",
    "    path = os.path.join(IMAGES_PATH, label)\n",
    "    if not os.path.exists(path):\n",
    "        !mkdir {path}"
   ]
  },
  {
   "cell_type": "markdown",
   "metadata": {},
   "source": [
    "# 4. Capture Images"
   ]
  },
  {
   "cell_type": "code",
   "execution_count": 18,
   "metadata": {},
   "outputs": [
    {
     "name": "stdout",
     "output_type": "stream",
     "text": [
      "Collecting images for thumbsup\n",
      "Collecting image 0\n",
      "Collecting image 1\n",
      "Collecting image 2\n",
      "Collecting image 3\n",
      "Collecting image 4\n"
     ]
    }
   ],
   "source": [
    "for label in labels:\n",
    "    cap = cv2.VideoCapture(0)\n",
    "    print('Collecting images for {}'.format(label))\n",
    "    time.sleep(5)\n",
    "    for imgnum in range(number_imgs):\n",
    "        print('Collecting image {}'.format(imgnum))\n",
    "        ret, frame = cap.read()\n",
    "        imgname = os.path.join(IMAGES_PATH,label,label+'.'+'{}.jpg'.format(str(uuid.uuid1())))\n",
    "        cv2.imwrite(imgname, frame)\n",
    "        cv2.imshow('frame', frame)\n",
    "        time.sleep(2)\n",
    "\n",
    "        if cv2.waitKey(1) & 0xFF == ord('q'):\n",
    "            break\n",
    "cap.release()\n",
    "cv2.destroyAllWindows()"
   ]
  },
  {
   "cell_type": "markdown",
   "metadata": {},
   "source": [
    "# 5. Image Labelling"
   ]
  },
  {
   "cell_type": "code",
   "execution_count": 6,
   "metadata": {},
   "outputs": [
    {
     "name": "stdout",
     "output_type": "stream",
     "text": [
      "Requirement already satisfied: pyqt5 in d:\\tfodcourse\\tfod\\lib\\site-packages (5.15.4)\n",
      "Requirement already satisfied: lxml in d:\\tfodcourse\\tfod\\lib\\site-packages (4.6.3)\n",
      "Requirement already satisfied: PyQt5-sip<13,>=12.8 in d:\\tfodcourse\\tfod\\lib\\site-packages (from pyqt5) (12.9.0)\n",
      "Requirement already satisfied: PyQt5-Qt5>=5.15 in d:\\tfodcourse\\tfod\\lib\\site-packages (from pyqt5) (5.15.2)\n"
     ]
    }
   ],
   "source": [
    "!pip install --upgrade pyqt5 lxml"
   ]
  },
  {
   "cell_type": "code",
   "execution_count": 5,
   "metadata": {},
   "outputs": [],
   "source": [
    "LABELIMG_PATH = os.path.join('Tensorflow', 'labelimg')"
   ]
  },
  {
   "cell_type": "code",
   "execution_count": 6,
   "metadata": {},
   "outputs": [],
   "source": [
    "if not os.path.exists(LABELIMG_PATH):\n",
    "    !mkdir {LABELIMG_PATH}\n",
    "    !git clone https://github.com/tzutalin/labelImg {LABELIMG_PATH}"
   ]
  },
  {
   "cell_type": "code",
   "execution_count": 7,
   "metadata": {},
   "outputs": [],
   "source": [
    "if os.name == 'posix':\n",
    "    !make qt5py3\n",
    "if os.name =='nt':\n",
    "    !cd {LABELIMG_PATH} && pyrcc5 -o libs/resources.py resources.qrc"
   ]
  },
  {
   "cell_type": "code",
   "execution_count": 8,
   "metadata": {},
   "outputs": [
    {
     "name": "stdout",
     "output_type": "stream",
     "text": [
      "Image:D:\\Age\\Tensorflow\\workspace\\images\\test_1\\image (13).jpg -> Annotation:D:/Age/Tensorflow/workspace/images/test_1/image (13).xml\n",
      "Image:D:\\Age\\Tensorflow\\workspace\\images\\test_1\\images (9).jpg -> Annotation:D:/Age/Tensorflow/workspace/images/test_1/images (9).xml\n",
      "Image:D:\\Age\\Tensorflow\\workspace\\images\\train_1\\im4.jpg -> Annotation:D:/Age/Tensorflow/workspace/images/train_1/im4.xml\n",
      "Cancel creation.\n",
      "Image:D:\\Age\\Tensorflow\\workspace\\images\\train_1\\im5.jpg -> Annotation:D:/Age/Tensorflow/workspace/images/train_1/im5.xml\n",
      "Image:D:\\Age\\Tensorflow\\workspace\\images\\train_1\\im8.jpg -> Annotation:D:/Age/Tensorflow/workspace/images/train_1/im8.xml\n",
      "Cancel creation.\n",
      "Cancel creation.\n",
      "Image:D:\\Age\\Tensorflow\\workspace\\images\\train_1\\im11.jpg -> Annotation:D:/Age/Tensorflow/workspace/images/train_1/im11.xml\n",
      "Image:D:\\Age\\Tensorflow\\workspace\\images\\train_1\\image (17).jpg -> Annotation:D:/Age/Tensorflow/workspace/images/train_1/image (17).xml\n",
      "Image:D:\\Age\\Tensorflow\\workspace\\images\\train_1\\puffy eye.jpg -> Annotation:D:/Age/Tensorflow/workspace/images/train_1/puffy eye.xml\n",
      "Image:D:\\Age\\Tensorflow\\workspace\\images\\train_1\\pexels-photo-3589558.jpeg -> Annotation:D:/Age/Tensorflow/workspace/images/train_1/pexels-photo-3589558.xml\n",
      "Image:C:\\Users\\rascal\\Downloads\\Data Set-20210620T163100Z-001\\Data Set\\PUFFY EYES\\Puffy eyes xml by mugilan\\PUFFYEYES\\image (2).jpg -> Annotation:C:/Users/rascal/Downloads/Data Set-20210620T163100Z-001/Data Set/PUFFY EYES/Puffy eyes xml by mugilan/PUFFYEYES/image (2).xml\n",
      "Cancel creation.\n",
      "Image:C:\\Users\\rascal\\Downloads\\Data Set-20210620T163100Z-001\\Data Set\\PUFFY EYES\\Puffy eyes xml by mugilan\\PUFFYEYES\\image (5).jpg -> Annotation:C:/Users/rascal/Downloads/Data Set-20210620T163100Z-001/Data Set/PUFFY EYES/Puffy eyes xml by mugilan/PUFFYEYES/image (5).xml\n",
      "Image:C:\\Users\\rascal\\Downloads\\Data Set-20210620T163100Z-001\\Data Set\\PUFFY EYES\\Puffy eyes xml by mugilan\\PUFFYEYES\\image (12).jpg -> Annotation:C:/Users/rascal/Downloads/Data Set-20210620T163100Z-001/Data Set/PUFFY EYES/Puffy eyes xml by mugilan/PUFFYEYES/image (12).xml\n",
      "Cancel creation.\n",
      "Image:C:\\Users\\rascal\\Downloads\\Data Set-20210620T163100Z-001\\Data Set\\PUFFY EYES\\Puffy eyes xml by mugilan\\PUFFYEYES\\image (13).jpg -> Annotation:C:/Users/rascal/Downloads/Data Set-20210620T163100Z-001/Data Set/PUFFY EYES/Puffy eyes xml by mugilan/PUFFYEYES/image (13).xml\n",
      "Cancel creation.\n",
      "Image:C:\\Users\\rascal\\Downloads\\Data Set-20210620T163100Z-001\\Data Set\\PUFFY EYES\\Puffy eyes xml by mugilan\\PUFFYEYES\\image (16).jpg -> Annotation:C:/Users/rascal/Downloads/Data Set-20210620T163100Z-001/Data Set/PUFFY EYES/Puffy eyes xml by mugilan/PUFFYEYES/image (16).xml\n",
      "Image:C:\\Users\\rascal\\Downloads\\Data Set-20210620T163100Z-001\\Data Set\\PUFFY EYES\\Puffy eyes xml by mugilan\\PUFFYEYES\\image (23).jpg -> Annotation:C:/Users/rascal/Downloads/Data Set-20210620T163100Z-001/Data Set/PUFFY EYES/Puffy eyes xml by mugilan/PUFFYEYES/image (23).xml\n",
      "Image:C:\\Users\\rascal\\Downloads\\Data Set-20210620T163100Z-001\\Data Set\\PUFFY EYES\\Puffy eyes xml by mugilan\\PUFFYEYES\\image (49).jpg -> Annotation:C:/Users/rascal/Downloads/Data Set-20210620T163100Z-001/Data Set/PUFFY EYES/Puffy eyes xml by mugilan/PUFFYEYES/image (49).xml\n",
      "Image:C:\\Users\\rascal\\Downloads\\Data Set-20210620T163100Z-001\\Data Set\\PUFFY EYES\\Puffy eyes xml by mugilan\\PUFFYEYES\\image (60).jpg -> Annotation:C:/Users/rascal/Downloads/Data Set-20210620T163100Z-001/Data Set/PUFFY EYES/Puffy eyes xml by mugilan/PUFFYEYES/image (60).xml\n",
      "Image:C:\\Users\\rascal\\Downloads\\Data Set-20210620T163100Z-001\\Data Set\\PUFFY EYES\\Puffy eyes xml by mugilan\\PUFFYEYES\\image (61).jpg -> Annotation:C:/Users/rascal/Downloads/Data Set-20210620T163100Z-001/Data Set/PUFFY EYES/Puffy eyes xml by mugilan/PUFFYEYES/image (61).xml\n",
      "Image:C:\\Users\\rascal\\Downloads\\Data Set-20210620T163100Z-001\\Data Set\\PUFFY EYES\\Puffy eyes xml by mugilan\\PUFFYEYES\\image (64).jpg -> Annotation:C:/Users/rascal/Downloads/Data Set-20210620T163100Z-001/Data Set/PUFFY EYES/Puffy eyes xml by mugilan/PUFFYEYES/image (64).xml\n",
      "Image:C:\\Users\\rascal\\Downloads\\Data Set-20210620T163100Z-001\\Data Set\\PUFFY EYES\\Puffy eyes xml by mugilan\\PUFFYEYES\\image (68).jpg -> Annotation:C:/Users/rascal/Downloads/Data Set-20210620T163100Z-001/Data Set/PUFFY EYES/Puffy eyes xml by mugilan/PUFFYEYES/image (68).xml\n",
      "Image:C:\\Users\\rascal\\Downloads\\Data Set-20210620T163100Z-001\\Data Set\\PUFFY EYES\\Puffy eyes xml by mugilan\\PUFFYEYES\\image (78).jpg -> Annotation:C:/Users/rascal/Downloads/Data Set-20210620T163100Z-001/Data Set/PUFFY EYES/Puffy eyes xml by mugilan/PUFFYEYES/image (78).xml\n",
      "Image:C:\\Users\\rascal\\Downloads\\Data Set-20210620T163100Z-001\\Data Set\\PUFFY EYES\\Puffy eyes xml by mugilan\\PUFFYEYES\\image (79).jpg -> Annotation:C:/Users/rascal/Downloads/Data Set-20210620T163100Z-001/Data Set/PUFFY EYES/Puffy eyes xml by mugilan/PUFFYEYES/image (79).xml\n",
      "Image:C:\\Users\\rascal\\Downloads\\Data Set-20210620T163100Z-001\\Data Set\\PUFFY EYES\\Puffy eyes xml by mugilan\\PUFFYEYES\\image (88).jpg -> Annotation:C:/Users/rascal/Downloads/Data Set-20210620T163100Z-001/Data Set/PUFFY EYES/Puffy eyes xml by mugilan/PUFFYEYES/image (88).xml\n",
      "Image:C:\\Users\\rascal\\Downloads\\Data Set-20210620T163100Z-001\\Data Set\\PUFFY EYES\\Puffy eyes xml by mugilan\\PUFFYEYES\\image (94).jpg -> Annotation:C:/Users/rascal/Downloads/Data Set-20210620T163100Z-001/Data Set/PUFFY EYES/Puffy eyes xml by mugilan/PUFFYEYES/image (94).xml\n",
      "Image:C:\\Users\\rascal\\Downloads\\Data Set-20210620T163100Z-001\\Data Set\\PUFFY EYES\\Puffy eyes labelled by sowbarnigaa\\img1.jpg -> Annotation:C:/Users/rascal/Downloads/Data Set-20210620T163100Z-001/Data Set/PUFFY EYES/Puffy eyes labelled by sowbarnigaa/img1.xml\n",
      "Image:C:\\Users\\rascal\\Downloads\\Data Set-20210620T163100Z-001\\Data Set\\PUFFY EYES\\Puffy eyes labelled by sowbarnigaa\\img2.jpg -> Annotation:C:/Users/rascal/Downloads/Data Set-20210620T163100Z-001/Data Set/PUFFY EYES/Puffy eyes labelled by sowbarnigaa/img2.xml\n",
      "Image:C:\\Users\\rascal\\Downloads\\Data Set-20210620T163100Z-001\\Data Set\\PUFFY EYES\\Puffy eyes labelled by sowbarnigaa\\img4.jpg -> Annotation:C:/Users/rascal/Downloads/Data Set-20210620T163100Z-001/Data Set/PUFFY EYES/Puffy eyes labelled by sowbarnigaa/img4.xml\n",
      "Image:C:\\Users\\rascal\\Downloads\\Data Set-20210620T163100Z-001\\Data Set\\PUFFY EYES\\Puffy eyes labelled by sowbarnigaa\\img5.jpg -> Annotation:C:/Users/rascal/Downloads/Data Set-20210620T163100Z-001/Data Set/PUFFY EYES/Puffy eyes labelled by sowbarnigaa/img5.xml\n",
      "Image:C:\\Users\\rascal\\Downloads\\Data Set-20210620T163100Z-001\\Data Set\\PUFFY EYES\\Puffy eyes labelled by sowbarnigaa\\img6.jpg -> Annotation:C:/Users/rascal/Downloads/Data Set-20210620T163100Z-001/Data Set/PUFFY EYES/Puffy eyes labelled by sowbarnigaa/img6.xml\n",
      "Image:C:\\Users\\rascal\\Downloads\\Data Set-20210620T163100Z-001\\Data Set\\PUFFY EYES\\Puffy eyes labelled by sowbarnigaa\\img7.jpg -> Annotation:C:/Users/rascal/Downloads/Data Set-20210620T163100Z-001/Data Set/PUFFY EYES/Puffy eyes labelled by sowbarnigaa/img7.xml\n",
      "Image:C:\\Users\\rascal\\Downloads\\Data Set-20210620T163100Z-001\\Data Set\\PUFFY EYES\\Puffy eyes labelled by sowbarnigaa\\img8.jpg -> Annotation:C:/Users/rascal/Downloads/Data Set-20210620T163100Z-001/Data Set/PUFFY EYES/Puffy eyes labelled by sowbarnigaa/img8.xml\n",
      "Image:C:\\Users\\rascal\\Downloads\\Data Set-20210620T163100Z-001\\Data Set\\PUFFY EYES\\Puffy eyes labelled by sowbarnigaa\\img9.jpg -> Annotation:C:/Users/rascal/Downloads/Data Set-20210620T163100Z-001/Data Set/PUFFY EYES/Puffy eyes labelled by sowbarnigaa/img9.xml\n",
      "Image:C:\\Users\\rascal\\Downloads\\Data Set-20210620T163100Z-001\\Data Set\\PUFFY EYES\\Puffy eyes labelled by sowbarnigaa\\img10.jpg -> Annotation:C:/Users/rascal/Downloads/Data Set-20210620T163100Z-001/Data Set/PUFFY EYES/Puffy eyes labelled by sowbarnigaa/img10.xml\n",
      "Image:C:\\Users\\rascal\\Downloads\\Data Set-20210620T163100Z-001\\Data Set\\PUFFY EYES\\Puffy eyes labelled by sowbarnigaa\\img13.jpg -> Annotation:C:/Users/rascal/Downloads/Data Set-20210620T163100Z-001/Data Set/PUFFY EYES/Puffy eyes labelled by sowbarnigaa/img13.xml\n",
      "Image:C:\\Users\\rascal\\Downloads\\Data Set-20210620T163100Z-001\\Data Set\\PUFFY EYES\\Puffy eyes labelled by sowbarnigaa\\img14.jpg -> Annotation:C:/Users/rascal/Downloads/Data Set-20210620T163100Z-001/Data Set/PUFFY EYES/Puffy eyes labelled by sowbarnigaa/img14.xml\n"
     ]
    },
    {
     "name": "stderr",
     "output_type": "stream",
     "text": [
      "qt.gui.icc: fromIccProfile: failed minimal tag size sanity\n",
      "qt.gui.icc: fromIccProfile: failed minimal tag size sanity\n",
      "qt.gui.icc: fromIccProfile: failed minimal tag size sanity\n",
      "D:\\Age\\Tensorflow\\labelimg\\labelImg.py:965: DeprecationWarning: an integer is required (got type float).  Implicit conversion to integers using __int__ is deprecated, and may be removed in a future version of Python.\n",
      "  bar.setValue(bar.value() + bar.singleStep() * units)\n",
      "qt.gui.icc: fromIccProfile: failed minimal tag size sanity\n",
      "qt.gui.icc: fromIccProfile: failed minimal tag size sanity\n",
      "qt.gui.icc: fromIccProfile: failed minimal tag size sanity\n",
      "qt.gui.icc: fromIccProfile: failed minimal tag size sanity\n",
      "qt.gui.icc: fromIccProfile: failed minimal tag size sanity\n",
      "qt.gui.icc: fromIccProfile: failed minimal tag size sanity\n"
     ]
    },
    {
     "name": "stdout",
     "output_type": "stream",
     "text": [
      "Image:C:\\Users\\rascal\\Downloads\\Data Set-20210620T163100Z-001\\Data Set\\PUFFY EYES\\Puffy eyes labelled by sowbarnigaa\\img15.jpg -> Annotation:C:/Users/rascal/Downloads/Data Set-20210620T163100Z-001/Data Set/PUFFY EYES/Puffy eyes labelled by sowbarnigaa/img15.xml\n",
      "Cancel creation.\n",
      "Image:C:\\Users\\rascal\\Downloads\\Data Set-20210620T163100Z-001\\Data Set\\DARK SPOTS\\Dark Spots Data set By Lohit\\image (20).jpg -> Annotation:C:/Users/rascal/Downloads/Data Set-20210620T163100Z-001/Data Set/DARK SPOTS/Dark Spots Data set By Lohit/image (20).xml\n",
      "Image:C:\\Users\\rascal\\Downloads\\Data Set-20210620T163100Z-001\\Data Set\\DARK SPOTS\\Dark Spots Data set By Lohit\\image (22).jpg -> Annotation:C:/Users/rascal/Downloads/Data Set-20210620T163100Z-001/Data Set/DARK SPOTS/Dark Spots Data set By Lohit/image (22).xml\n",
      "Image:C:\\Users\\rascal\\Downloads\\Data Set-20210620T163100Z-001\\Data Set\\DARK SPOTS\\Dark Spots Data set By Lohit\\image (27).jpg -> Annotation:C:/Users/rascal/Downloads/Data Set-20210620T163100Z-001/Data Set/DARK SPOTS/Dark Spots Data set By Lohit/image (27).xml\n",
      "Cancel creation.\n",
      "Cancel creation.\n",
      "Image:C:\\Users\\rascal\\Downloads\\Data Set-20210620T163100Z-001\\Data Set\\DARK SPOTS\\Dark Spots Data set By Lohit\\image (46).jpg -> Annotation:C:/Users/rascal/Downloads/Data Set-20210620T163100Z-001/Data Set/DARK SPOTS/Dark Spots Data set By Lohit/image (46).xml\n",
      "Cancel creation.\n",
      "Cancel creation.\n",
      "Cancel creation.\n",
      "Cancel creation.\n",
      "Image:C:\\Users\\rascal\\Downloads\\Data Set-20210620T163100Z-001\\Data Set\\DARK SPOTS\\Dark Spots Data set By Lohit\\image (48).jpg -> Annotation:C:/Users/rascal/Downloads/Data Set-20210620T163100Z-001/Data Set/DARK SPOTS/Dark Spots Data set By Lohit/image (48).xml\n",
      "Image:C:\\Users\\rascal\\Downloads\\Data Set-20210620T163100Z-001\\Data Set\\DARK SPOTS\\Dark Spots Data set By Lohit\\image (59).jpg -> Annotation:C:/Users/rascal/Downloads/Data Set-20210620T163100Z-001/Data Set/DARK SPOTS/Dark Spots Data set By Lohit/image (59).xml\n",
      "Cancel creation.\n",
      "Image:C:\\Users\\rascal\\Downloads\\Data Set-20210620T163100Z-001\\Data Set\\DARK SPOTS\\DRAK SPOTS from vijay\\download (1).jpg -> Annotation:C:/Users/rascal/Downloads/Data Set-20210620T163100Z-001/Data Set/DARK SPOTS/DRAK SPOTS from vijay/download (1).xml\n"
     ]
    }
   ],
   "source": [
    "!cd {LABELIMG_PATH} && python labelImg.py"
   ]
  },
  {
   "cell_type": "markdown",
   "metadata": {},
   "source": [
    "# 6. Move them into a Training and Testing Partition"
   ]
  },
  {
   "cell_type": "markdown",
   "metadata": {},
   "source": [
    "# OPTIONAL - 7. Compress them for Colab Training"
   ]
  },
  {
   "cell_type": "code",
   "execution_count": 20,
   "metadata": {},
   "outputs": [],
   "source": [
    "TRAIN_PATH = os.path.join('Tensorflow', 'workspace', 'images', 'train')\n",
    "TEST_PATH = os.path.join('Tensorflow', 'workspace', 'images', 'test')\n",
    "ARCHIVE_PATH = os.path.join('Tensorflow', 'workspace', 'images', 'archive.tar.gz')"
   ]
  },
  {
   "cell_type": "code",
   "execution_count": 21,
   "metadata": {},
   "outputs": [],
   "source": [
    "!tar -czf {ARCHIVE_PATH} {TRAIN_PATH} {TEST_PATH}"
   ]
  },
  {
   "cell_type": "code",
   "execution_count": null,
   "metadata": {},
   "outputs": [],
   "source": []
  }
 ],
 "metadata": {
  "kernelspec": {
   "display_name": "tfod",
   "language": "python",
   "name": "tfod"
  },
  "language_info": {
   "codemirror_mode": {
    "name": "ipython",
    "version": 3
   },
   "file_extension": ".py",
   "mimetype": "text/x-python",
   "name": "python",
   "nbconvert_exporter": "python",
   "pygments_lexer": "ipython3",
   "version": "3.9.5"
  }
 },
 "nbformat": 4,
 "nbformat_minor": 2
}
